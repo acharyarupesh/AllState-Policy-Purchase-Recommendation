{
 "cells": [
  {
   "cell_type": "code",
   "execution_count": 1,
   "metadata": {},
   "outputs": [
    {
     "name": "stderr",
     "output_type": "stream",
     "text": [
      "D:\\Anaconda\\lib\\site-packages\\sklearn\\ensemble\\weight_boosting.py:29: DeprecationWarning: numpy.core.umath_tests is an internal NumPy module and should not be imported. It will be removed in a future NumPy release.\n",
      "  from numpy.core.umath_tests import inner1d\n"
     ]
    }
   ],
   "source": [
    "import pandas as pd\n",
    "import numpy as np\n",
    "import matplotlib as plt\n",
    "from sklearn.model_selection import train_test_split\n",
    "from sklearn.linear_model import LogisticRegression\n",
    "from sklearn.preprocessing import OneHotEncoder\n",
    "from sklearn.metrics import classification_report, confusion_matrix\n",
    "from sklearn.ensemble import RandomForestClassifier\n",
    "from sklearn.neural_network import MLPClassifier"
   ]
  },
  {
   "cell_type": "code",
   "execution_count": 2,
   "metadata": {},
   "outputs": [],
   "source": [
    "df = pd.read_csv(\"processed_train_datav2.csv\")"
   ]
  },
  {
   "cell_type": "code",
   "execution_count": 3,
   "metadata": {},
   "outputs": [],
   "source": [
    "import h2o\n",
    "from h2o.automl import H2OAutoML"
   ]
  },
  {
   "cell_type": "code",
   "execution_count": 4,
   "metadata": {},
   "outputs": [
    {
     "name": "stdout",
     "output_type": "stream",
     "text": [
      "Checking whether there is an H2O instance running at http://localhost:54321..... not found.\n",
      "Attempting to start a local H2O server...\n",
      "; Java HotSpot(TM) 64-Bit Server VM (build 25.191-b12, mixed mode)\n",
      "  Starting server from D:\\Anaconda\\lib\\site-packages\\h2o\\backend\\bin\\h2o.jar\n",
      "  Ice root: C:\\Users\\NIYATI~1\\AppData\\Local\\Temp\\tmpg_pm7eyb\n",
      "  JVM stdout: C:\\Users\\NIYATI~1\\AppData\\Local\\Temp\\tmpg_pm7eyb\\h2o_Niyati_Maheshwari_started_from_python.out\n",
      "  JVM stderr: C:\\Users\\NIYATI~1\\AppData\\Local\\Temp\\tmpg_pm7eyb\\h2o_Niyati_Maheshwari_started_from_python.err\n",
      "  Server is running at http://127.0.0.1:54321\n",
      "Connecting to H2O server at http://127.0.0.1:54321... successful.\n"
     ]
    },
    {
     "data": {
      "text/html": [
       "<div style=\"overflow:auto\"><table style=\"width:50%\"><tr><td>H2O cluster uptime:</td>\n",
       "<td>02 secs</td></tr>\n",
       "<tr><td>H2O cluster timezone:</td>\n",
       "<td>America/New_York</td></tr>\n",
       "<tr><td>H2O data parsing timezone:</td>\n",
       "<td>UTC</td></tr>\n",
       "<tr><td>H2O cluster version:</td>\n",
       "<td>3.22.0.2</td></tr>\n",
       "<tr><td>H2O cluster version age:</td>\n",
       "<td>20 days </td></tr>\n",
       "<tr><td>H2O cluster name:</td>\n",
       "<td>H2O_from_python_Niyati_Maheshwari_0nssvt</td></tr>\n",
       "<tr><td>H2O cluster total nodes:</td>\n",
       "<td>1</td></tr>\n",
       "<tr><td>H2O cluster free memory:</td>\n",
       "<td>3.531 Gb</td></tr>\n",
       "<tr><td>H2O cluster total cores:</td>\n",
       "<td>4</td></tr>\n",
       "<tr><td>H2O cluster allowed cores:</td>\n",
       "<td>4</td></tr>\n",
       "<tr><td>H2O cluster status:</td>\n",
       "<td>accepting new members, healthy</td></tr>\n",
       "<tr><td>H2O connection url:</td>\n",
       "<td>http://127.0.0.1:54321</td></tr>\n",
       "<tr><td>H2O connection proxy:</td>\n",
       "<td>None</td></tr>\n",
       "<tr><td>H2O internal security:</td>\n",
       "<td>False</td></tr>\n",
       "<tr><td>H2O API Extensions:</td>\n",
       "<td>Algos, AutoML, Core V3, Core V4</td></tr>\n",
       "<tr><td>Python version:</td>\n",
       "<td>3.7.0 final</td></tr></table></div>"
      ],
      "text/plain": [
       "--------------------------  ----------------------------------------\n",
       "H2O cluster uptime:         02 secs\n",
       "H2O cluster timezone:       America/New_York\n",
       "H2O data parsing timezone:  UTC\n",
       "H2O cluster version:        3.22.0.2\n",
       "H2O cluster version age:    20 days\n",
       "H2O cluster name:           H2O_from_python_Niyati_Maheshwari_0nssvt\n",
       "H2O cluster total nodes:    1\n",
       "H2O cluster free memory:    3.531 Gb\n",
       "H2O cluster total cores:    4\n",
       "H2O cluster allowed cores:  4\n",
       "H2O cluster status:         accepting new members, healthy\n",
       "H2O connection url:         http://127.0.0.1:54321\n",
       "H2O connection proxy:\n",
       "H2O internal security:      False\n",
       "H2O API Extensions:         Algos, AutoML, Core V3, Core V4\n",
       "Python version:             3.7.0 final\n",
       "--------------------------  ----------------------------------------"
      ]
     },
     "metadata": {},
     "output_type": "display_data"
    }
   ],
   "source": [
    "h2o.init()"
   ]
  },
  {
   "cell_type": "code",
   "execution_count": 6,
   "metadata": {},
   "outputs": [
    {
     "name": "stdout",
     "output_type": "stream",
     "text": [
      "Parse progress: |█████████████████████████████████████████████████████████| 100%\n"
     ]
    }
   ],
   "source": [
    "data_h2o= h2o.H2OFrame(df)"
   ]
  },
  {
   "cell_type": "code",
   "execution_count": 7,
   "metadata": {},
   "outputs": [],
   "source": [
    "splits =data_h2o.split_frame(ratios=[0.7, 0.15], seed=1)"
   ]
  },
  {
   "cell_type": "code",
   "execution_count": 8,
   "metadata": {},
   "outputs": [],
   "source": [
    "train = splits[0]\n",
    "valid = splits[1]\n",
    "test = splits[2]"
   ]
  },
  {
   "cell_type": "code",
   "execution_count": 9,
   "metadata": {},
   "outputs": [],
   "source": [
    "x = train.columns\n",
    "y= 'chosen_match_final'"
   ]
  },
  {
   "cell_type": "code",
   "execution_count": 10,
   "metadata": {},
   "outputs": [],
   "source": [
    "x.remove(y)"
   ]
  },
  {
   "cell_type": "code",
   "execution_count": 11,
   "metadata": {},
   "outputs": [],
   "source": [
    "x = train.columns\n",
    "y1= 'A_chosen'\n",
    "x.remove(y1)"
   ]
  },
  {
   "cell_type": "code",
   "execution_count": 12,
   "metadata": {},
   "outputs": [],
   "source": [
    "x = train.columns\n",
    "y2= 'B_chosen'\n",
    "x.remove(y2)"
   ]
  },
  {
   "cell_type": "code",
   "execution_count": 13,
   "metadata": {},
   "outputs": [],
   "source": [
    "x = train.columns\n",
    "y3= 'C_chosen'\n",
    "x.remove(y3)"
   ]
  },
  {
   "cell_type": "code",
   "execution_count": 14,
   "metadata": {},
   "outputs": [],
   "source": [
    "x = train.columns\n",
    "y4= 'D_chosen'\n",
    "x.remove(y4)"
   ]
  },
  {
   "cell_type": "code",
   "execution_count": 15,
   "metadata": {},
   "outputs": [],
   "source": [
    "x = train.columns\n",
    "y5= 'E_chosen'\n",
    "x.remove(y5)"
   ]
  },
  {
   "cell_type": "code",
   "execution_count": 16,
   "metadata": {},
   "outputs": [],
   "source": [
    "x = train.columns\n",
    "y6= 'F_chosen'\n",
    "x.remove(y6)"
   ]
  },
  {
   "cell_type": "code",
   "execution_count": 17,
   "metadata": {},
   "outputs": [],
   "source": [
    "x = train.columns\n",
    "y7= 'G_chosen'\n",
    "x.remove(y7)"
   ]
  },
  {
   "cell_type": "code",
   "execution_count": 18,
   "metadata": {},
   "outputs": [],
   "source": [
    "aml = H2OAutoML()"
   ]
  },
  {
   "cell_type": "code",
   "execution_count": 19,
   "metadata": {},
   "outputs": [
    {
     "name": "stdout",
     "output_type": "stream",
     "text": [
      "AutoML progress: |████████████████████████████████████████████████████████| 100%\n"
     ]
    }
   ],
   "source": [
    "aml.train(x = x, y = y, training_frame = train, leaderboard_frame= test, validation_frame=valid)"
   ]
  },
  {
   "cell_type": "code",
   "execution_count": 20,
   "metadata": {},
   "outputs": [],
   "source": [
    "lb = aml.leaderboard"
   ]
  },
  {
   "cell_type": "code",
   "execution_count": 44,
   "metadata": {},
   "outputs": [
    {
     "data": {
      "text/html": [
       "<table>\n",
       "<thead>\n",
       "<tr><th>model_id                                           </th><th style=\"text-align: right;\">  mean_residual_deviance</th><th style=\"text-align: right;\">    rmse</th><th style=\"text-align: right;\">      mse</th><th style=\"text-align: right;\">     mae</th><th style=\"text-align: right;\">   rmsle</th></tr>\n",
       "</thead>\n",
       "<tbody>\n",
       "<tr><td>StackedEnsemble_AllModels_AutoML_20181212_181509   </td><td style=\"text-align: right;\">               0.0795919</td><td style=\"text-align: right;\">0.28212 </td><td style=\"text-align: right;\">0.0795919</td><td style=\"text-align: right;\">0.202116</td><td style=\"text-align: right;\">0.218377</td></tr>\n",
       "<tr><td>StackedEnsemble_BestOfFamily_AutoML_20181212_181509</td><td style=\"text-align: right;\">               0.0820263</td><td style=\"text-align: right;\">0.286402</td><td style=\"text-align: right;\">0.0820263</td><td style=\"text-align: right;\">0.204987</td><td style=\"text-align: right;\">0.215905</td></tr>\n",
       "<tr><td>GBM_4_AutoML_20181212_181509                       </td><td style=\"text-align: right;\">               0.0830844</td><td style=\"text-align: right;\">0.288244</td><td style=\"text-align: right;\">0.0830844</td><td style=\"text-align: right;\">0.20957 </td><td style=\"text-align: right;\">0.212513</td></tr>\n",
       "<tr><td>GBM_3_AutoML_20181212_181509                       </td><td style=\"text-align: right;\">               0.083862 </td><td style=\"text-align: right;\">0.289589</td><td style=\"text-align: right;\">0.083862 </td><td style=\"text-align: right;\">0.213154</td><td style=\"text-align: right;\">0.21801 </td></tr>\n",
       "<tr><td>GBM_2_AutoML_20181212_181509                       </td><td style=\"text-align: right;\">               0.0852635</td><td style=\"text-align: right;\">0.291999</td><td style=\"text-align: right;\">0.0852635</td><td style=\"text-align: right;\">0.217099</td><td style=\"text-align: right;\">0.220741</td></tr>\n",
       "<tr><td>GBM_1_AutoML_20181212_181509                       </td><td style=\"text-align: right;\">               0.0874115</td><td style=\"text-align: right;\">0.295654</td><td style=\"text-align: right;\">0.0874115</td><td style=\"text-align: right;\">0.222054</td><td style=\"text-align: right;\">0.225203</td></tr>\n",
       "<tr><td>DRF_1_AutoML_20181212_181509                       </td><td style=\"text-align: right;\">               0.117733 </td><td style=\"text-align: right;\">0.343122</td><td style=\"text-align: right;\">0.117733 </td><td style=\"text-align: right;\">0.275361</td><td style=\"text-align: right;\">0.244162</td></tr>\n",
       "<tr><td>XRT_1_AutoML_20181212_181509                       </td><td style=\"text-align: right;\">               0.119781 </td><td style=\"text-align: right;\">0.346094</td><td style=\"text-align: right;\">0.119781 </td><td style=\"text-align: right;\">0.28022 </td><td style=\"text-align: right;\">0.244768</td></tr>\n",
       "<tr><td>GLM_grid_1_AutoML_20181212_181509_model_1          </td><td style=\"text-align: right;\">               0.179347 </td><td style=\"text-align: right;\">0.423493</td><td style=\"text-align: right;\">0.179347 </td><td style=\"text-align: right;\">0.36181 </td><td style=\"text-align: right;\">0.296478</td></tr>\n",
       "</tbody>\n",
       "</table>"
      ]
     },
     "metadata": {},
     "output_type": "display_data"
    },
    {
     "data": {
      "text/plain": []
     },
     "execution_count": 44,
     "metadata": {},
     "output_type": "execute_result"
    }
   ],
   "source": [
    "lb"
   ]
  },
  {
   "cell_type": "code",
   "execution_count": 22,
   "metadata": {},
   "outputs": [],
   "source": [
    "leader = aml.leader"
   ]
  },
  {
   "cell_type": "code",
   "execution_count": 43,
   "metadata": {},
   "outputs": [
    {
     "name": "stdout",
     "output_type": "stream",
     "text": [
      "Model Details\n",
      "=============\n",
      "H2OStackedEnsembleEstimator :  Stacked Ensemble\n",
      "Model Key:  StackedEnsemble_AllModels_AutoML_20181212_181509\n",
      "No model summary for this model\n",
      "\n",
      "\n",
      "ModelMetricsRegressionGLM: stackedensemble\n",
      "** Reported on train data. **\n",
      "\n",
      "MSE: 0.04576585098318738\n",
      "RMSE: 0.21392954677460377\n",
      "MAE: 0.15101397212860765\n",
      "RMSLE: 0.16779595988044577\n",
      "R^2: 0.7869376378631123\n",
      "Mean Residual Deviance: 0.04576585098318738\n",
      "Null degrees of freedom: 67925\n",
      "Residual degrees of freedom: 67921\n",
      "Null deviance: 14590.522524511578\n",
      "Residual deviance: 3108.691193883986\n",
      "AIC: -16720.891606213383\n",
      "\n",
      "ModelMetricsRegressionGLM: stackedensemble\n",
      "** Reported on validation data. **\n",
      "\n",
      "MSE: 0.07840948354861792\n",
      "RMSE: 0.2800169343961503\n",
      "MAE: 0.2016065314131934\n",
      "RMSLE: 0.21505772461258055\n",
      "R^2: 0.6331700310305006\n",
      "Mean Residual Deviance: 0.07840948354861792\n",
      "Null degrees of freedom: 14495\n",
      "Residual degrees of freedom: 14491\n",
      "Null deviance: 3098.6154563005907\n",
      "Residual deviance: 1136.6238735207653\n",
      "AIC: 4245.798464242278\n",
      "\n",
      "ModelMetricsRegressionGLM: stackedensemble\n",
      "** Reported on cross-validation data. **\n",
      "\n",
      "MSE: 0.08162452042782609\n",
      "RMSE: 0.2857000532513533\n",
      "MAE: 0.20645529481123964\n",
      "RMSLE: 0.22180804698306772\n",
      "R^2: 0.6199980387771639\n",
      "Mean Residual Deviance: 0.08162452042782609\n",
      "Null degrees of freedom: 67925\n",
      "Residual degrees of freedom: 67921\n",
      "Null deviance: 14591.25417583398\n",
      "Residual deviance: 5544.4271745805145\n",
      "AIC: 22580.515368391458\n"
     ]
    },
    {
     "data": {
      "text/plain": [
       "<bound method ModelBase.std_coef_plot of >"
      ]
     },
     "execution_count": 43,
     "metadata": {},
     "output_type": "execute_result"
    }
   ],
   "source": [
    "import matplotlib as plt\n",
    "%matplotlib inline\n",
    "\n",
    "leader.std_coef_plot"
   ]
  },
  {
   "cell_type": "code",
   "execution_count": 40,
   "metadata": {},
   "outputs": [
    {
     "name": "stdout",
     "output_type": "stream",
     "text": [
      "\n",
      "ModelMetricsRegressionGLM: stackedensemble\n",
      "** Reported on test data. **\n",
      "\n",
      "MSE: 0.07959187057960618\n",
      "RMSE: 0.2821203122421464\n",
      "MAE: 0.20211636845915731\n",
      "RMSLE: 0.21837683434792882\n",
      "R^2: 0.6300467867709585\n",
      "Mean Residual Deviance: 0.07959187057960618\n",
      "Null degrees of freedom: 14586\n",
      "Residual degrees of freedom: 14582\n",
      "Null deviance: 3138.2645958093162\n",
      "Residual deviance: 1161.0066161447153\n",
      "AIC: 4490.70126260496\n"
     ]
    },
    {
     "data": {
      "text/plain": []
     },
     "execution_count": 40,
     "metadata": {},
     "output_type": "execute_result"
    }
   ],
   "source": [
    "leader.model_performance(test)"
   ]
  },
  {
   "cell_type": "code",
   "execution_count": 32,
   "metadata": {},
   "outputs": [
    {
     "name": "stdout",
     "output_type": "stream",
     "text": [
      "stackedensemble prediction progress: |████████████████████████████████████| 100%\n"
     ]
    }
   ],
   "source": [
    "h2o_pred=aml.predict(test)"
   ]
  },
  {
   "cell_type": "code",
   "execution_count": 33,
   "metadata": {},
   "outputs": [],
   "source": [
    "from sklearn.metrics import classification_report, confusion_matrix"
   ]
  },
  {
   "cell_type": "code",
   "execution_count": 51,
   "metadata": {},
   "outputs": [],
   "source": [
    "data_test = pd.read_csv('process_test2.csv')"
   ]
  },
  {
   "cell_type": "code",
   "execution_count": 56,
   "metadata": {},
   "outputs": [
    {
     "data": {
      "text/html": [
       "<div>\n",
       "<style scoped>\n",
       "    .dataframe tbody tr th:only-of-type {\n",
       "        vertical-align: middle;\n",
       "    }\n",
       "\n",
       "    .dataframe tbody tr th {\n",
       "        vertical-align: top;\n",
       "    }\n",
       "\n",
       "    .dataframe thead th {\n",
       "        text-align: right;\n",
       "    }\n",
       "</style>\n",
       "<table border=\"1\" class=\"dataframe\">\n",
       "  <thead>\n",
       "    <tr style=\"text-align: right;\">\n",
       "      <th></th>\n",
       "      <th>customer_ID</th>\n",
       "      <th>num_quotes</th>\n",
       "      <th>location</th>\n",
       "      <th>group_size</th>\n",
       "      <th>homeowner</th>\n",
       "      <th>car_age</th>\n",
       "      <th>car_value</th>\n",
       "      <th>risk_factor</th>\n",
       "      <th>age_oldest</th>\n",
       "      <th>age_youngest</th>\n",
       "      <th>...</th>\n",
       "      <th>state_OR</th>\n",
       "      <th>state_PA</th>\n",
       "      <th>state_RI</th>\n",
       "      <th>state_SD</th>\n",
       "      <th>state_TN</th>\n",
       "      <th>state_UT</th>\n",
       "      <th>state_WA</th>\n",
       "      <th>state_WI</th>\n",
       "      <th>state_WV</th>\n",
       "      <th>state_WY</th>\n",
       "    </tr>\n",
       "  </thead>\n",
       "  <tbody>\n",
       "    <tr>\n",
       "      <th>0</th>\n",
       "      <td>10000001</td>\n",
       "      <td>2</td>\n",
       "      <td>10002.0</td>\n",
       "      <td>1</td>\n",
       "      <td>0</td>\n",
       "      <td>9</td>\n",
       "      <td>6</td>\n",
       "      <td>3.0</td>\n",
       "      <td>24</td>\n",
       "      <td>24</td>\n",
       "      <td>...</td>\n",
       "      <td>0</td>\n",
       "      <td>0</td>\n",
       "      <td>0</td>\n",
       "      <td>0</td>\n",
       "      <td>0</td>\n",
       "      <td>0</td>\n",
       "      <td>0</td>\n",
       "      <td>0</td>\n",
       "      <td>0</td>\n",
       "      <td>0</td>\n",
       "    </tr>\n",
       "    <tr>\n",
       "      <th>1</th>\n",
       "      <td>10000002</td>\n",
       "      <td>2</td>\n",
       "      <td>10003.0</td>\n",
       "      <td>1</td>\n",
       "      <td>1</td>\n",
       "      <td>7</td>\n",
       "      <td>6</td>\n",
       "      <td>3.0</td>\n",
       "      <td>74</td>\n",
       "      <td>74</td>\n",
       "      <td>...</td>\n",
       "      <td>0</td>\n",
       "      <td>1</td>\n",
       "      <td>0</td>\n",
       "      <td>0</td>\n",
       "      <td>0</td>\n",
       "      <td>0</td>\n",
       "      <td>0</td>\n",
       "      <td>0</td>\n",
       "      <td>0</td>\n",
       "      <td>0</td>\n",
       "    </tr>\n",
       "    <tr>\n",
       "      <th>2</th>\n",
       "      <td>10000003</td>\n",
       "      <td>3</td>\n",
       "      <td>10004.0</td>\n",
       "      <td>1</td>\n",
       "      <td>0</td>\n",
       "      <td>4</td>\n",
       "      <td>4</td>\n",
       "      <td>4.0</td>\n",
       "      <td>26</td>\n",
       "      <td>26</td>\n",
       "      <td>...</td>\n",
       "      <td>0</td>\n",
       "      <td>0</td>\n",
       "      <td>0</td>\n",
       "      <td>0</td>\n",
       "      <td>0</td>\n",
       "      <td>0</td>\n",
       "      <td>0</td>\n",
       "      <td>0</td>\n",
       "      <td>0</td>\n",
       "      <td>0</td>\n",
       "    </tr>\n",
       "    <tr>\n",
       "      <th>3</th>\n",
       "      <td>10000004</td>\n",
       "      <td>9</td>\n",
       "      <td>10005.0</td>\n",
       "      <td>1</td>\n",
       "      <td>0</td>\n",
       "      <td>13</td>\n",
       "      <td>6</td>\n",
       "      <td>3.0</td>\n",
       "      <td>22</td>\n",
       "      <td>22</td>\n",
       "      <td>...</td>\n",
       "      <td>0</td>\n",
       "      <td>0</td>\n",
       "      <td>0</td>\n",
       "      <td>0</td>\n",
       "      <td>0</td>\n",
       "      <td>0</td>\n",
       "      <td>0</td>\n",
       "      <td>0</td>\n",
       "      <td>0</td>\n",
       "      <td>0</td>\n",
       "    </tr>\n",
       "    <tr>\n",
       "      <th>4</th>\n",
       "      <td>10000006</td>\n",
       "      <td>2</td>\n",
       "      <td>10007.0</td>\n",
       "      <td>1</td>\n",
       "      <td>0</td>\n",
       "      <td>11</td>\n",
       "      <td>5</td>\n",
       "      <td>3.0</td>\n",
       "      <td>27</td>\n",
       "      <td>27</td>\n",
       "      <td>...</td>\n",
       "      <td>0</td>\n",
       "      <td>0</td>\n",
       "      <td>0</td>\n",
       "      <td>0</td>\n",
       "      <td>0</td>\n",
       "      <td>0</td>\n",
       "      <td>1</td>\n",
       "      <td>0</td>\n",
       "      <td>0</td>\n",
       "      <td>0</td>\n",
       "    </tr>\n",
       "  </tbody>\n",
       "</table>\n",
       "<p>5 rows × 88 columns</p>\n",
       "</div>"
      ],
      "text/plain": [
       "   customer_ID  num_quotes  location  group_size  homeowner  car_age  \\\n",
       "0     10000001           2   10002.0           1          0        9   \n",
       "1     10000002           2   10003.0           1          1        7   \n",
       "2     10000003           3   10004.0           1          0        4   \n",
       "3     10000004           9   10005.0           1          0       13   \n",
       "4     10000006           2   10007.0           1          0       11   \n",
       "\n",
       "   car_value  risk_factor  age_oldest  age_youngest    ...     state_OR  \\\n",
       "0          6          3.0          24            24    ...            0   \n",
       "1          6          3.0          74            74    ...            0   \n",
       "2          4          4.0          26            26    ...            0   \n",
       "3          6          3.0          22            22    ...            0   \n",
       "4          5          3.0          27            27    ...            0   \n",
       "\n",
       "   state_PA  state_RI  state_SD  state_TN  state_UT  state_WA  state_WI  \\\n",
       "0         0         0         0         0         0         0         0   \n",
       "1         1         0         0         0         0         0         0   \n",
       "2         0         0         0         0         0         0         0   \n",
       "3         0         0         0         0         0         0         0   \n",
       "4         0         0         0         0         0         1         0   \n",
       "\n",
       "   state_WV  state_WY  \n",
       "0         0         0  \n",
       "1         0         0  \n",
       "2         0         0  \n",
       "3         0         0  \n",
       "4         0         0  \n",
       "\n",
       "[5 rows x 88 columns]"
      ]
     },
     "execution_count": 56,
     "metadata": {},
     "output_type": "execute_result"
    }
   ],
   "source": [
    "data_test.head()"
   ]
  },
  {
   "cell_type": "code",
   "execution_count": 55,
   "metadata": {},
   "outputs": [],
   "source": [
    "data_test = data_test.drop('Unnamed: 0', axis =1)"
   ]
  },
  {
   "cell_type": "code",
   "execution_count": 57,
   "metadata": {},
   "outputs": [
    {
     "name": "stdout",
     "output_type": "stream",
     "text": [
      "Parse progress: |█████████████████████████████████████████████████████████| 100%\n"
     ]
    }
   ],
   "source": [
    "df_test_h = h2o.H2OFrame(data_test)"
   ]
  },
  {
   "cell_type": "code",
   "execution_count": 59,
   "metadata": {},
   "outputs": [
    {
     "data": {
      "text/html": [
       "<table>\n",
       "<thead>\n",
       "<tr><th style=\"text-align: right;\">  customer_ID</th><th style=\"text-align: right;\">  num_quotes</th><th style=\"text-align: right;\">  location</th><th style=\"text-align: right;\">  group_size</th><th style=\"text-align: right;\">  homeowner</th><th style=\"text-align: right;\">  car_age</th><th style=\"text-align: right;\">  car_value</th><th style=\"text-align: right;\">  risk_factor</th><th style=\"text-align: right;\">  age_oldest</th><th style=\"text-align: right;\">  age_youngest</th><th style=\"text-align: right;\">  married_couple</th><th style=\"text-align: right;\">  C_previous</th><th style=\"text-align: right;\">  duration_previous</th><th style=\"text-align: right;\">  A_min</th><th style=\"text-align: right;\">  A_max</th><th style=\"text-align: right;\">  A_mode</th><th style=\"text-align: right;\">  A_median</th><th style=\"text-align: right;\">  B_min</th><th style=\"text-align: right;\">  B_max</th><th style=\"text-align: right;\">  B_mode</th><th style=\"text-align: right;\">  B_median</th><th style=\"text-align: right;\">  C_min</th><th style=\"text-align: right;\">  C_max</th><th style=\"text-align: right;\">  C_mode</th><th style=\"text-align: right;\">  C_median</th><th style=\"text-align: right;\">  D_min</th><th style=\"text-align: right;\">  D_max</th><th style=\"text-align: right;\">  D_mode</th><th style=\"text-align: right;\">  D_median</th><th style=\"text-align: right;\">  E_min</th><th style=\"text-align: right;\">  E_max</th><th style=\"text-align: right;\">  E_mode</th><th style=\"text-align: right;\">  E_median</th><th style=\"text-align: right;\">  F_min</th><th style=\"text-align: right;\">  F_max</th><th style=\"text-align: right;\">  F_mode</th><th style=\"text-align: right;\">  F_median</th><th style=\"text-align: right;\">  G_min</th><th style=\"text-align: right;\">  G_max</th><th style=\"text-align: right;\">  G_mode</th><th style=\"text-align: right;\">  G_median</th><th style=\"text-align: right;\">  cost_min</th><th style=\"text-align: right;\">  cost_max</th><th style=\"text-align: right;\">  cost_mode</th><th style=\"text-align: right;\">  cost_median</th><th style=\"text-align: right;\">  A_final</th><th style=\"text-align: right;\">  B_final</th><th style=\"text-align: right;\">  C_final</th><th style=\"text-align: right;\">  D_final</th><th style=\"text-align: right;\">  E_final</th><th style=\"text-align: right;\">  F_final</th><th style=\"text-align: right;\">  G_final</th><th style=\"text-align: right;\">  state_AL</th><th style=\"text-align: right;\">  state_AR</th><th style=\"text-align: right;\">  state_CO</th><th style=\"text-align: right;\">  state_CT</th><th style=\"text-align: right;\">  state_DC</th><th style=\"text-align: right;\">  state_DE</th><th style=\"text-align: right;\">  state_FL</th><th style=\"text-align: right;\">  state_GA</th><th style=\"text-align: right;\">  state_IA</th><th style=\"text-align: right;\">  state_ID</th><th style=\"text-align: right;\">  state_IN</th><th style=\"text-align: right;\">  state_KS</th><th style=\"text-align: right;\">  state_KY</th><th style=\"text-align: right;\">  state_MD</th><th style=\"text-align: right;\">  state_ME</th><th style=\"text-align: right;\">  state_MO</th><th style=\"text-align: right;\">  state_MS</th><th style=\"text-align: right;\">  state_MT</th><th style=\"text-align: right;\">  state_ND</th><th style=\"text-align: right;\">  state_NE</th><th style=\"text-align: right;\">  state_NH</th><th style=\"text-align: right;\">  state_NM</th><th style=\"text-align: right;\">  state_NV</th><th style=\"text-align: right;\">  state_NY</th><th style=\"text-align: right;\">  state_OH</th><th style=\"text-align: right;\">  state_OK</th><th style=\"text-align: right;\">  state_OR</th><th style=\"text-align: right;\">  state_PA</th><th style=\"text-align: right;\">  state_RI</th><th style=\"text-align: right;\">  state_SD</th><th style=\"text-align: right;\">  state_TN</th><th style=\"text-align: right;\">  state_UT</th><th style=\"text-align: right;\">  state_WA</th><th style=\"text-align: right;\">  state_WI</th><th style=\"text-align: right;\">  state_WV</th><th style=\"text-align: right;\">  state_WY</th></tr>\n",
       "</thead>\n",
       "<tbody>\n",
       "<tr><td style=\"text-align: right;\">        1e+07</td><td style=\"text-align: right;\">           2</td><td style=\"text-align: right;\">     10002</td><td style=\"text-align: right;\">           1</td><td style=\"text-align: right;\">          0</td><td style=\"text-align: right;\">        9</td><td style=\"text-align: right;\">          6</td><td style=\"text-align: right;\">            3</td><td style=\"text-align: right;\">          24</td><td style=\"text-align: right;\">            24</td><td style=\"text-align: right;\">               0</td><td style=\"text-align: right;\">           3</td><td style=\"text-align: right;\">                  9</td><td style=\"text-align: right;\">      0</td><td style=\"text-align: right;\">      2</td><td style=\"text-align: right;\">       0</td><td style=\"text-align: right;\">       1  </td><td style=\"text-align: right;\">      0</td><td style=\"text-align: right;\">      1</td><td style=\"text-align: right;\">       0</td><td style=\"text-align: right;\">       0.5</td><td style=\"text-align: right;\">      1</td><td style=\"text-align: right;\">      1</td><td style=\"text-align: right;\">       1</td><td style=\"text-align: right;\">       1  </td><td style=\"text-align: right;\">      1</td><td style=\"text-align: right;\">      3</td><td style=\"text-align: right;\">       1</td><td style=\"text-align: right;\">       2  </td><td style=\"text-align: right;\">      0</td><td style=\"text-align: right;\">      1</td><td style=\"text-align: right;\">       0</td><td style=\"text-align: right;\">       0.5</td><td style=\"text-align: right;\">      0</td><td style=\"text-align: right;\">      3</td><td style=\"text-align: right;\">       0</td><td style=\"text-align: right;\">       1.5</td><td style=\"text-align: right;\">      2</td><td style=\"text-align: right;\">      4</td><td style=\"text-align: right;\">       2</td><td style=\"text-align: right;\">       3  </td><td style=\"text-align: right;\">       543</td><td style=\"text-align: right;\">       611</td><td style=\"text-align: right;\">        543</td><td style=\"text-align: right;\">        577  </td><td style=\"text-align: right;\">        2</td><td style=\"text-align: right;\">        1</td><td style=\"text-align: right;\">        1</td><td style=\"text-align: right;\">        3</td><td style=\"text-align: right;\">        1</td><td style=\"text-align: right;\">        3</td><td style=\"text-align: right;\">        2</td><td style=\"text-align: right;\">         0</td><td style=\"text-align: right;\">         0</td><td style=\"text-align: right;\">         0</td><td style=\"text-align: right;\">         0</td><td style=\"text-align: right;\">         0</td><td style=\"text-align: right;\">         0</td><td style=\"text-align: right;\">         0</td><td style=\"text-align: right;\">         0</td><td style=\"text-align: right;\">         0</td><td style=\"text-align: right;\">         0</td><td style=\"text-align: right;\">         0</td><td style=\"text-align: right;\">         0</td><td style=\"text-align: right;\">         0</td><td style=\"text-align: right;\">         0</td><td style=\"text-align: right;\">         0</td><td style=\"text-align: right;\">         0</td><td style=\"text-align: right;\">         0</td><td style=\"text-align: right;\">         0</td><td style=\"text-align: right;\">         0</td><td style=\"text-align: right;\">         0</td><td style=\"text-align: right;\">         0</td><td style=\"text-align: right;\">         0</td><td style=\"text-align: right;\">         0</td><td style=\"text-align: right;\">         0</td><td style=\"text-align: right;\">         0</td><td style=\"text-align: right;\">         1</td><td style=\"text-align: right;\">         0</td><td style=\"text-align: right;\">         0</td><td style=\"text-align: right;\">         0</td><td style=\"text-align: right;\">         0</td><td style=\"text-align: right;\">         0</td><td style=\"text-align: right;\">         0</td><td style=\"text-align: right;\">         0</td><td style=\"text-align: right;\">         0</td><td style=\"text-align: right;\">         0</td><td style=\"text-align: right;\">         0</td></tr>\n",
       "<tr><td style=\"text-align: right;\">        1e+07</td><td style=\"text-align: right;\">           2</td><td style=\"text-align: right;\">     10003</td><td style=\"text-align: right;\">           1</td><td style=\"text-align: right;\">          1</td><td style=\"text-align: right;\">        7</td><td style=\"text-align: right;\">          6</td><td style=\"text-align: right;\">            3</td><td style=\"text-align: right;\">          74</td><td style=\"text-align: right;\">            74</td><td style=\"text-align: right;\">               0</td><td style=\"text-align: right;\">           2</td><td style=\"text-align: right;\">                 15</td><td style=\"text-align: right;\">      2</td><td style=\"text-align: right;\">      2</td><td style=\"text-align: right;\">       2</td><td style=\"text-align: right;\">       2  </td><td style=\"text-align: right;\">      0</td><td style=\"text-align: right;\">      0</td><td style=\"text-align: right;\">       0</td><td style=\"text-align: right;\">       0  </td><td style=\"text-align: right;\">      2</td><td style=\"text-align: right;\">      2</td><td style=\"text-align: right;\">       2</td><td style=\"text-align: right;\">       2  </td><td style=\"text-align: right;\">      3</td><td style=\"text-align: right;\">      3</td><td style=\"text-align: right;\">       3</td><td style=\"text-align: right;\">       3  </td><td style=\"text-align: right;\">      1</td><td style=\"text-align: right;\">      1</td><td style=\"text-align: right;\">       1</td><td style=\"text-align: right;\">       1  </td><td style=\"text-align: right;\">      2</td><td style=\"text-align: right;\">      2</td><td style=\"text-align: right;\">       2</td><td style=\"text-align: right;\">       2  </td><td style=\"text-align: right;\">      2</td><td style=\"text-align: right;\">      2</td><td style=\"text-align: right;\">       2</td><td style=\"text-align: right;\">       2  </td><td style=\"text-align: right;\">       691</td><td style=\"text-align: right;\">       695</td><td style=\"text-align: right;\">        691</td><td style=\"text-align: right;\">        693  </td><td style=\"text-align: right;\">        2</td><td style=\"text-align: right;\">        0</td><td style=\"text-align: right;\">        2</td><td style=\"text-align: right;\">        3</td><td style=\"text-align: right;\">        1</td><td style=\"text-align: right;\">        2</td><td style=\"text-align: right;\">        2</td><td style=\"text-align: right;\">         0</td><td style=\"text-align: right;\">         0</td><td style=\"text-align: right;\">         0</td><td style=\"text-align: right;\">         0</td><td style=\"text-align: right;\">         0</td><td style=\"text-align: right;\">         0</td><td style=\"text-align: right;\">         0</td><td style=\"text-align: right;\">         0</td><td style=\"text-align: right;\">         0</td><td style=\"text-align: right;\">         0</td><td style=\"text-align: right;\">         0</td><td style=\"text-align: right;\">         0</td><td style=\"text-align: right;\">         0</td><td style=\"text-align: right;\">         0</td><td style=\"text-align: right;\">         0</td><td style=\"text-align: right;\">         0</td><td style=\"text-align: right;\">         0</td><td style=\"text-align: right;\">         0</td><td style=\"text-align: right;\">         0</td><td style=\"text-align: right;\">         0</td><td style=\"text-align: right;\">         0</td><td style=\"text-align: right;\">         0</td><td style=\"text-align: right;\">         0</td><td style=\"text-align: right;\">         0</td><td style=\"text-align: right;\">         0</td><td style=\"text-align: right;\">         0</td><td style=\"text-align: right;\">         0</td><td style=\"text-align: right;\">         1</td><td style=\"text-align: right;\">         0</td><td style=\"text-align: right;\">         0</td><td style=\"text-align: right;\">         0</td><td style=\"text-align: right;\">         0</td><td style=\"text-align: right;\">         0</td><td style=\"text-align: right;\">         0</td><td style=\"text-align: right;\">         0</td><td style=\"text-align: right;\">         0</td></tr>\n",
       "<tr><td style=\"text-align: right;\">        1e+07</td><td style=\"text-align: right;\">           3</td><td style=\"text-align: right;\">     10004</td><td style=\"text-align: right;\">           1</td><td style=\"text-align: right;\">          0</td><td style=\"text-align: right;\">        4</td><td style=\"text-align: right;\">          4</td><td style=\"text-align: right;\">            4</td><td style=\"text-align: right;\">          26</td><td style=\"text-align: right;\">            26</td><td style=\"text-align: right;\">               0</td><td style=\"text-align: right;\">           3</td><td style=\"text-align: right;\">                  1</td><td style=\"text-align: right;\">      1</td><td style=\"text-align: right;\">      1</td><td style=\"text-align: right;\">       1</td><td style=\"text-align: right;\">       1  </td><td style=\"text-align: right;\">      0</td><td style=\"text-align: right;\">      0</td><td style=\"text-align: right;\">       0</td><td style=\"text-align: right;\">       0  </td><td style=\"text-align: right;\">      1</td><td style=\"text-align: right;\">      2</td><td style=\"text-align: right;\">       2</td><td style=\"text-align: right;\">       2  </td><td style=\"text-align: right;\">      1</td><td style=\"text-align: right;\">      1</td><td style=\"text-align: right;\">       1</td><td style=\"text-align: right;\">       1  </td><td style=\"text-align: right;\">      0</td><td style=\"text-align: right;\">      0</td><td style=\"text-align: right;\">       0</td><td style=\"text-align: right;\">       0  </td><td style=\"text-align: right;\">      2</td><td style=\"text-align: right;\">      2</td><td style=\"text-align: right;\">       2</td><td style=\"text-align: right;\">       2  </td><td style=\"text-align: right;\">      2</td><td style=\"text-align: right;\">      2</td><td style=\"text-align: right;\">       2</td><td style=\"text-align: right;\">       2  </td><td style=\"text-align: right;\">       625</td><td style=\"text-align: right;\">       628</td><td style=\"text-align: right;\">        628</td><td style=\"text-align: right;\">        628  </td><td style=\"text-align: right;\">        1</td><td style=\"text-align: right;\">        0</td><td style=\"text-align: right;\">        2</td><td style=\"text-align: right;\">        1</td><td style=\"text-align: right;\">        0</td><td style=\"text-align: right;\">        2</td><td style=\"text-align: right;\">        2</td><td style=\"text-align: right;\">         0</td><td style=\"text-align: right;\">         1</td><td style=\"text-align: right;\">         0</td><td style=\"text-align: right;\">         0</td><td style=\"text-align: right;\">         0</td><td style=\"text-align: right;\">         0</td><td style=\"text-align: right;\">         0</td><td style=\"text-align: right;\">         0</td><td style=\"text-align: right;\">         0</td><td style=\"text-align: right;\">         0</td><td style=\"text-align: right;\">         0</td><td style=\"text-align: right;\">         0</td><td style=\"text-align: right;\">         0</td><td style=\"text-align: right;\">         0</td><td style=\"text-align: right;\">         0</td><td style=\"text-align: right;\">         0</td><td style=\"text-align: right;\">         0</td><td style=\"text-align: right;\">         0</td><td style=\"text-align: right;\">         0</td><td style=\"text-align: right;\">         0</td><td style=\"text-align: right;\">         0</td><td style=\"text-align: right;\">         0</td><td style=\"text-align: right;\">         0</td><td style=\"text-align: right;\">         0</td><td style=\"text-align: right;\">         0</td><td style=\"text-align: right;\">         0</td><td style=\"text-align: right;\">         0</td><td style=\"text-align: right;\">         0</td><td style=\"text-align: right;\">         0</td><td style=\"text-align: right;\">         0</td><td style=\"text-align: right;\">         0</td><td style=\"text-align: right;\">         0</td><td style=\"text-align: right;\">         0</td><td style=\"text-align: right;\">         0</td><td style=\"text-align: right;\">         0</td><td style=\"text-align: right;\">         0</td></tr>\n",
       "<tr><td style=\"text-align: right;\">        1e+07</td><td style=\"text-align: right;\">           9</td><td style=\"text-align: right;\">     10005</td><td style=\"text-align: right;\">           1</td><td style=\"text-align: right;\">          0</td><td style=\"text-align: right;\">       13</td><td style=\"text-align: right;\">          6</td><td style=\"text-align: right;\">            3</td><td style=\"text-align: right;\">          22</td><td style=\"text-align: right;\">            22</td><td style=\"text-align: right;\">               0</td><td style=\"text-align: right;\">           3</td><td style=\"text-align: right;\">                 15</td><td style=\"text-align: right;\">      0</td><td style=\"text-align: right;\">      2</td><td style=\"text-align: right;\">       2</td><td style=\"text-align: right;\">       2  </td><td style=\"text-align: right;\">      0</td><td style=\"text-align: right;\">      0</td><td style=\"text-align: right;\">       0</td><td style=\"text-align: right;\">       0  </td><td style=\"text-align: right;\">      1</td><td style=\"text-align: right;\">      1</td><td style=\"text-align: right;\">       1</td><td style=\"text-align: right;\">       1  </td><td style=\"text-align: right;\">      1</td><td style=\"text-align: right;\">      1</td><td style=\"text-align: right;\">       1</td><td style=\"text-align: right;\">       1  </td><td style=\"text-align: right;\">      0</td><td style=\"text-align: right;\">      1</td><td style=\"text-align: right;\">       0</td><td style=\"text-align: right;\">       0  </td><td style=\"text-align: right;\">      0</td><td style=\"text-align: right;\">      3</td><td style=\"text-align: right;\">       2</td><td style=\"text-align: right;\">       2  </td><td style=\"text-align: right;\">      2</td><td style=\"text-align: right;\">      4</td><td style=\"text-align: right;\">       2</td><td style=\"text-align: right;\">       2  </td><td style=\"text-align: right;\">       596</td><td style=\"text-align: right;\">       722</td><td style=\"text-align: right;\">        722</td><td style=\"text-align: right;\">        692  </td><td style=\"text-align: right;\">        2</td><td style=\"text-align: right;\">        0</td><td style=\"text-align: right;\">        1</td><td style=\"text-align: right;\">        1</td><td style=\"text-align: right;\">        1</td><td style=\"text-align: right;\">        2</td><td style=\"text-align: right;\">        3</td><td style=\"text-align: right;\">         0</td><td style=\"text-align: right;\">         0</td><td style=\"text-align: right;\">         0</td><td style=\"text-align: right;\">         0</td><td style=\"text-align: right;\">         0</td><td style=\"text-align: right;\">         0</td><td style=\"text-align: right;\">         0</td><td style=\"text-align: right;\">         0</td><td style=\"text-align: right;\">         0</td><td style=\"text-align: right;\">         0</td><td style=\"text-align: right;\">         0</td><td style=\"text-align: right;\">         0</td><td style=\"text-align: right;\">         0</td><td style=\"text-align: right;\">         0</td><td style=\"text-align: right;\">         0</td><td style=\"text-align: right;\">         0</td><td style=\"text-align: right;\">         0</td><td style=\"text-align: right;\">         0</td><td style=\"text-align: right;\">         0</td><td style=\"text-align: right;\">         0</td><td style=\"text-align: right;\">         0</td><td style=\"text-align: right;\">         0</td><td style=\"text-align: right;\">         0</td><td style=\"text-align: right;\">         0</td><td style=\"text-align: right;\">         0</td><td style=\"text-align: right;\">         1</td><td style=\"text-align: right;\">         0</td><td style=\"text-align: right;\">         0</td><td style=\"text-align: right;\">         0</td><td style=\"text-align: right;\">         0</td><td style=\"text-align: right;\">         0</td><td style=\"text-align: right;\">         0</td><td style=\"text-align: right;\">         0</td><td style=\"text-align: right;\">         0</td><td style=\"text-align: right;\">         0</td><td style=\"text-align: right;\">         0</td></tr>\n",
       "<tr><td style=\"text-align: right;\">        1e+07</td><td style=\"text-align: right;\">           2</td><td style=\"text-align: right;\">     10007</td><td style=\"text-align: right;\">           1</td><td style=\"text-align: right;\">          0</td><td style=\"text-align: right;\">       11</td><td style=\"text-align: right;\">          5</td><td style=\"text-align: right;\">            3</td><td style=\"text-align: right;\">          27</td><td style=\"text-align: right;\">            27</td><td style=\"text-align: right;\">               0</td><td style=\"text-align: right;\">           3</td><td style=\"text-align: right;\">                 12</td><td style=\"text-align: right;\">      0</td><td style=\"text-align: right;\">      0</td><td style=\"text-align: right;\">       0</td><td style=\"text-align: right;\">       0  </td><td style=\"text-align: right;\">      0</td><td style=\"text-align: right;\">      0</td><td style=\"text-align: right;\">       0</td><td style=\"text-align: right;\">       0  </td><td style=\"text-align: right;\">      1</td><td style=\"text-align: right;\">      1</td><td style=\"text-align: right;\">       1</td><td style=\"text-align: right;\">       1  </td><td style=\"text-align: right;\">      1</td><td style=\"text-align: right;\">      1</td><td style=\"text-align: right;\">       1</td><td style=\"text-align: right;\">       1  </td><td style=\"text-align: right;\">      0</td><td style=\"text-align: right;\">      0</td><td style=\"text-align: right;\">       0</td><td style=\"text-align: right;\">       0  </td><td style=\"text-align: right;\">      0</td><td style=\"text-align: right;\">      0</td><td style=\"text-align: right;\">       0</td><td style=\"text-align: right;\">       0  </td><td style=\"text-align: right;\">      1</td><td style=\"text-align: right;\">      1</td><td style=\"text-align: right;\">       1</td><td style=\"text-align: right;\">       1  </td><td style=\"text-align: right;\">       625</td><td style=\"text-align: right;\">       625</td><td style=\"text-align: right;\">        625</td><td style=\"text-align: right;\">        625  </td><td style=\"text-align: right;\">        0</td><td style=\"text-align: right;\">        0</td><td style=\"text-align: right;\">        1</td><td style=\"text-align: right;\">        1</td><td style=\"text-align: right;\">        0</td><td style=\"text-align: right;\">        0</td><td style=\"text-align: right;\">        1</td><td style=\"text-align: right;\">         0</td><td style=\"text-align: right;\">         0</td><td style=\"text-align: right;\">         0</td><td style=\"text-align: right;\">         0</td><td style=\"text-align: right;\">         0</td><td style=\"text-align: right;\">         0</td><td style=\"text-align: right;\">         0</td><td style=\"text-align: right;\">         0</td><td style=\"text-align: right;\">         0</td><td style=\"text-align: right;\">         0</td><td style=\"text-align: right;\">         0</td><td style=\"text-align: right;\">         0</td><td style=\"text-align: right;\">         0</td><td style=\"text-align: right;\">         0</td><td style=\"text-align: right;\">         0</td><td style=\"text-align: right;\">         0</td><td style=\"text-align: right;\">         0</td><td style=\"text-align: right;\">         0</td><td style=\"text-align: right;\">         0</td><td style=\"text-align: right;\">         0</td><td style=\"text-align: right;\">         0</td><td style=\"text-align: right;\">         0</td><td style=\"text-align: right;\">         0</td><td style=\"text-align: right;\">         0</td><td style=\"text-align: right;\">         0</td><td style=\"text-align: right;\">         0</td><td style=\"text-align: right;\">         0</td><td style=\"text-align: right;\">         0</td><td style=\"text-align: right;\">         0</td><td style=\"text-align: right;\">         0</td><td style=\"text-align: right;\">         0</td><td style=\"text-align: right;\">         0</td><td style=\"text-align: right;\">         1</td><td style=\"text-align: right;\">         0</td><td style=\"text-align: right;\">         0</td><td style=\"text-align: right;\">         0</td></tr>\n",
       "<tr><td style=\"text-align: right;\">        1e+07</td><td style=\"text-align: right;\">           6</td><td style=\"text-align: right;\">     10009</td><td style=\"text-align: right;\">           1</td><td style=\"text-align: right;\">          1</td><td style=\"text-align: right;\">       11</td><td style=\"text-align: right;\">          5</td><td style=\"text-align: right;\">            1</td><td style=\"text-align: right;\">          75</td><td style=\"text-align: right;\">            75</td><td style=\"text-align: right;\">               0</td><td style=\"text-align: right;\">           1</td><td style=\"text-align: right;\">                  9</td><td style=\"text-align: right;\">      0</td><td style=\"text-align: right;\">      1</td><td style=\"text-align: right;\">       0</td><td style=\"text-align: right;\">       0.5</td><td style=\"text-align: right;\">      0</td><td style=\"text-align: right;\">      0</td><td style=\"text-align: right;\">       0</td><td style=\"text-align: right;\">       0  </td><td style=\"text-align: right;\">      1</td><td style=\"text-align: right;\">      2</td><td style=\"text-align: right;\">       1</td><td style=\"text-align: right;\">       1  </td><td style=\"text-align: right;\">      3</td><td style=\"text-align: right;\">      3</td><td style=\"text-align: right;\">       3</td><td style=\"text-align: right;\">       3  </td><td style=\"text-align: right;\">      0</td><td style=\"text-align: right;\">      0</td><td style=\"text-align: right;\">       0</td><td style=\"text-align: right;\">       0  </td><td style=\"text-align: right;\">      0</td><td style=\"text-align: right;\">      2</td><td style=\"text-align: right;\">       2</td><td style=\"text-align: right;\">       2  </td><td style=\"text-align: right;\">      2</td><td style=\"text-align: right;\">      3</td><td style=\"text-align: right;\">       3</td><td style=\"text-align: right;\">       3  </td><td style=\"text-align: right;\">       547</td><td style=\"text-align: right;\">       579</td><td style=\"text-align: right;\">        561</td><td style=\"text-align: right;\">        564  </td><td style=\"text-align: right;\">        0</td><td style=\"text-align: right;\">        0</td><td style=\"text-align: right;\">        1</td><td style=\"text-align: right;\">        3</td><td style=\"text-align: right;\">        0</td><td style=\"text-align: right;\">        2</td><td style=\"text-align: right;\">        3</td><td style=\"text-align: right;\">         0</td><td style=\"text-align: right;\">         0</td><td style=\"text-align: right;\">         0</td><td style=\"text-align: right;\">         0</td><td style=\"text-align: right;\">         0</td><td style=\"text-align: right;\">         0</td><td style=\"text-align: right;\">         1</td><td style=\"text-align: right;\">         0</td><td style=\"text-align: right;\">         0</td><td style=\"text-align: right;\">         0</td><td style=\"text-align: right;\">         0</td><td style=\"text-align: right;\">         0</td><td style=\"text-align: right;\">         0</td><td style=\"text-align: right;\">         0</td><td style=\"text-align: right;\">         0</td><td style=\"text-align: right;\">         0</td><td style=\"text-align: right;\">         0</td><td style=\"text-align: right;\">         0</td><td style=\"text-align: right;\">         0</td><td style=\"text-align: right;\">         0</td><td style=\"text-align: right;\">         0</td><td style=\"text-align: right;\">         0</td><td style=\"text-align: right;\">         0</td><td style=\"text-align: right;\">         0</td><td style=\"text-align: right;\">         0</td><td style=\"text-align: right;\">         0</td><td style=\"text-align: right;\">         0</td><td style=\"text-align: right;\">         0</td><td style=\"text-align: right;\">         0</td><td style=\"text-align: right;\">         0</td><td style=\"text-align: right;\">         0</td><td style=\"text-align: right;\">         0</td><td style=\"text-align: right;\">         0</td><td style=\"text-align: right;\">         0</td><td style=\"text-align: right;\">         0</td><td style=\"text-align: right;\">         0</td></tr>\n",
       "<tr><td style=\"text-align: right;\">        1e+07</td><td style=\"text-align: right;\">           4</td><td style=\"text-align: right;\">     10010</td><td style=\"text-align: right;\">           1</td><td style=\"text-align: right;\">          0</td><td style=\"text-align: right;\">        7</td><td style=\"text-align: right;\">          6</td><td style=\"text-align: right;\">            3</td><td style=\"text-align: right;\">          25</td><td style=\"text-align: right;\">            25</td><td style=\"text-align: right;\">               0</td><td style=\"text-align: right;\">           1</td><td style=\"text-align: right;\">                  1</td><td style=\"text-align: right;\">      0</td><td style=\"text-align: right;\">      0</td><td style=\"text-align: right;\">       0</td><td style=\"text-align: right;\">       0  </td><td style=\"text-align: right;\">      1</td><td style=\"text-align: right;\">      1</td><td style=\"text-align: right;\">       1</td><td style=\"text-align: right;\">       1  </td><td style=\"text-align: right;\">      1</td><td style=\"text-align: right;\">      1</td><td style=\"text-align: right;\">       1</td><td style=\"text-align: right;\">       1  </td><td style=\"text-align: right;\">      2</td><td style=\"text-align: right;\">      2</td><td style=\"text-align: right;\">       2</td><td style=\"text-align: right;\">       2  </td><td style=\"text-align: right;\">      0</td><td style=\"text-align: right;\">      0</td><td style=\"text-align: right;\">       0</td><td style=\"text-align: right;\">       0  </td><td style=\"text-align: right;\">      0</td><td style=\"text-align: right;\">      0</td><td style=\"text-align: right;\">       0</td><td style=\"text-align: right;\">       0  </td><td style=\"text-align: right;\">      2</td><td style=\"text-align: right;\">      2</td><td style=\"text-align: right;\">       2</td><td style=\"text-align: right;\">       2  </td><td style=\"text-align: right;\">       627</td><td style=\"text-align: right;\">       627</td><td style=\"text-align: right;\">        627</td><td style=\"text-align: right;\">        627  </td><td style=\"text-align: right;\">        0</td><td style=\"text-align: right;\">        1</td><td style=\"text-align: right;\">        1</td><td style=\"text-align: right;\">        2</td><td style=\"text-align: right;\">        0</td><td style=\"text-align: right;\">        0</td><td style=\"text-align: right;\">        2</td><td style=\"text-align: right;\">         0</td><td style=\"text-align: right;\">         0</td><td style=\"text-align: right;\">         0</td><td style=\"text-align: right;\">         0</td><td style=\"text-align: right;\">         0</td><td style=\"text-align: right;\">         0</td><td style=\"text-align: right;\">         0</td><td style=\"text-align: right;\">         0</td><td style=\"text-align: right;\">         0</td><td style=\"text-align: right;\">         0</td><td style=\"text-align: right;\">         0</td><td style=\"text-align: right;\">         0</td><td style=\"text-align: right;\">         1</td><td style=\"text-align: right;\">         0</td><td style=\"text-align: right;\">         0</td><td style=\"text-align: right;\">         0</td><td style=\"text-align: right;\">         0</td><td style=\"text-align: right;\">         0</td><td style=\"text-align: right;\">         0</td><td style=\"text-align: right;\">         0</td><td style=\"text-align: right;\">         0</td><td style=\"text-align: right;\">         0</td><td style=\"text-align: right;\">         0</td><td style=\"text-align: right;\">         0</td><td style=\"text-align: right;\">         0</td><td style=\"text-align: right;\">         0</td><td style=\"text-align: right;\">         0</td><td style=\"text-align: right;\">         0</td><td style=\"text-align: right;\">         0</td><td style=\"text-align: right;\">         0</td><td style=\"text-align: right;\">         0</td><td style=\"text-align: right;\">         0</td><td style=\"text-align: right;\">         0</td><td style=\"text-align: right;\">         0</td><td style=\"text-align: right;\">         0</td><td style=\"text-align: right;\">         0</td></tr>\n",
       "<tr><td style=\"text-align: right;\">        1e+07</td><td style=\"text-align: right;\">           2</td><td style=\"text-align: right;\">     10011</td><td style=\"text-align: right;\">           2</td><td style=\"text-align: right;\">          1</td><td style=\"text-align: right;\">       12</td><td style=\"text-align: right;\">          4</td><td style=\"text-align: right;\">            3</td><td style=\"text-align: right;\">          75</td><td style=\"text-align: right;\">            75</td><td style=\"text-align: right;\">               1</td><td style=\"text-align: right;\">           1</td><td style=\"text-align: right;\">                 10</td><td style=\"text-align: right;\">      1</td><td style=\"text-align: right;\">      1</td><td style=\"text-align: right;\">       1</td><td style=\"text-align: right;\">       1  </td><td style=\"text-align: right;\">      0</td><td style=\"text-align: right;\">      1</td><td style=\"text-align: right;\">       0</td><td style=\"text-align: right;\">       0.5</td><td style=\"text-align: right;\">      1</td><td style=\"text-align: right;\">      3</td><td style=\"text-align: right;\">       1</td><td style=\"text-align: right;\">       2  </td><td style=\"text-align: right;\">      2</td><td style=\"text-align: right;\">      3</td><td style=\"text-align: right;\">       2</td><td style=\"text-align: right;\">       2.5</td><td style=\"text-align: right;\">      0</td><td style=\"text-align: right;\">      1</td><td style=\"text-align: right;\">       0</td><td style=\"text-align: right;\">       0.5</td><td style=\"text-align: right;\">      1</td><td style=\"text-align: right;\">      1</td><td style=\"text-align: right;\">       1</td><td style=\"text-align: right;\">       1  </td><td style=\"text-align: right;\">      1</td><td style=\"text-align: right;\">      2</td><td style=\"text-align: right;\">       1</td><td style=\"text-align: right;\">       1.5</td><td style=\"text-align: right;\">       644</td><td style=\"text-align: right;\">       670</td><td style=\"text-align: right;\">        644</td><td style=\"text-align: right;\">        657  </td><td style=\"text-align: right;\">        1</td><td style=\"text-align: right;\">        0</td><td style=\"text-align: right;\">        1</td><td style=\"text-align: right;\">        2</td><td style=\"text-align: right;\">        0</td><td style=\"text-align: right;\">        1</td><td style=\"text-align: right;\">        2</td><td style=\"text-align: right;\">         0</td><td style=\"text-align: right;\">         0</td><td style=\"text-align: right;\">         0</td><td style=\"text-align: right;\">         0</td><td style=\"text-align: right;\">         0</td><td style=\"text-align: right;\">         0</td><td style=\"text-align: right;\">         0</td><td style=\"text-align: right;\">         0</td><td style=\"text-align: right;\">         0</td><td style=\"text-align: right;\">         0</td><td style=\"text-align: right;\">         0</td><td style=\"text-align: right;\">         0</td><td style=\"text-align: right;\">         0</td><td style=\"text-align: right;\">         0</td><td style=\"text-align: right;\">         0</td><td style=\"text-align: right;\">         0</td><td style=\"text-align: right;\">         0</td><td style=\"text-align: right;\">         0</td><td style=\"text-align: right;\">         0</td><td style=\"text-align: right;\">         0</td><td style=\"text-align: right;\">         0</td><td style=\"text-align: right;\">         0</td><td style=\"text-align: right;\">         0</td><td style=\"text-align: right;\">         0</td><td style=\"text-align: right;\">         0</td><td style=\"text-align: right;\">         0</td><td style=\"text-align: right;\">         0</td><td style=\"text-align: right;\">         1</td><td style=\"text-align: right;\">         0</td><td style=\"text-align: right;\">         0</td><td style=\"text-align: right;\">         0</td><td style=\"text-align: right;\">         0</td><td style=\"text-align: right;\">         0</td><td style=\"text-align: right;\">         0</td><td style=\"text-align: right;\">         0</td><td style=\"text-align: right;\">         0</td></tr>\n",
       "<tr><td style=\"text-align: right;\">        1e+07</td><td style=\"text-align: right;\">           2</td><td style=\"text-align: right;\">     10012</td><td style=\"text-align: right;\">           1</td><td style=\"text-align: right;\">          1</td><td style=\"text-align: right;\">       11</td><td style=\"text-align: right;\">          8</td><td style=\"text-align: right;\">            3</td><td style=\"text-align: right;\">          56</td><td style=\"text-align: right;\">            56</td><td style=\"text-align: right;\">               0</td><td style=\"text-align: right;\">           3</td><td style=\"text-align: right;\">                  2</td><td style=\"text-align: right;\">      1</td><td style=\"text-align: right;\">      1</td><td style=\"text-align: right;\">       1</td><td style=\"text-align: right;\">       1  </td><td style=\"text-align: right;\">      0</td><td style=\"text-align: right;\">      0</td><td style=\"text-align: right;\">       0</td><td style=\"text-align: right;\">       0  </td><td style=\"text-align: right;\">      3</td><td style=\"text-align: right;\">      3</td><td style=\"text-align: right;\">       3</td><td style=\"text-align: right;\">       3  </td><td style=\"text-align: right;\">      3</td><td style=\"text-align: right;\">      3</td><td style=\"text-align: right;\">       3</td><td style=\"text-align: right;\">       3  </td><td style=\"text-align: right;\">      0</td><td style=\"text-align: right;\">      0</td><td style=\"text-align: right;\">       0</td><td style=\"text-align: right;\">       0  </td><td style=\"text-align: right;\">      2</td><td style=\"text-align: right;\">      2</td><td style=\"text-align: right;\">       2</td><td style=\"text-align: right;\">       2  </td><td style=\"text-align: right;\">      1</td><td style=\"text-align: right;\">      2</td><td style=\"text-align: right;\">       1</td><td style=\"text-align: right;\">       1.5</td><td style=\"text-align: right;\">       580</td><td style=\"text-align: right;\">       581</td><td style=\"text-align: right;\">        580</td><td style=\"text-align: right;\">        580.5</td><td style=\"text-align: right;\">        1</td><td style=\"text-align: right;\">        0</td><td style=\"text-align: right;\">        3</td><td style=\"text-align: right;\">        3</td><td style=\"text-align: right;\">        0</td><td style=\"text-align: right;\">        2</td><td style=\"text-align: right;\">        2</td><td style=\"text-align: right;\">         0</td><td style=\"text-align: right;\">         0</td><td style=\"text-align: right;\">         0</td><td style=\"text-align: right;\">         0</td><td style=\"text-align: right;\">         0</td><td style=\"text-align: right;\">         0</td><td style=\"text-align: right;\">         0</td><td style=\"text-align: right;\">         0</td><td style=\"text-align: right;\">         0</td><td style=\"text-align: right;\">         0</td><td style=\"text-align: right;\">         0</td><td style=\"text-align: right;\">         0</td><td style=\"text-align: right;\">         0</td><td style=\"text-align: right;\">         0</td><td style=\"text-align: right;\">         0</td><td style=\"text-align: right;\">         1</td><td style=\"text-align: right;\">         0</td><td style=\"text-align: right;\">         0</td><td style=\"text-align: right;\">         0</td><td style=\"text-align: right;\">         0</td><td style=\"text-align: right;\">         0</td><td style=\"text-align: right;\">         0</td><td style=\"text-align: right;\">         0</td><td style=\"text-align: right;\">         0</td><td style=\"text-align: right;\">         0</td><td style=\"text-align: right;\">         0</td><td style=\"text-align: right;\">         0</td><td style=\"text-align: right;\">         0</td><td style=\"text-align: right;\">         0</td><td style=\"text-align: right;\">         0</td><td style=\"text-align: right;\">         0</td><td style=\"text-align: right;\">         0</td><td style=\"text-align: right;\">         0</td><td style=\"text-align: right;\">         0</td><td style=\"text-align: right;\">         0</td><td style=\"text-align: right;\">         0</td></tr>\n",
       "<tr><td style=\"text-align: right;\">        1e+07</td><td style=\"text-align: right;\">           4</td><td style=\"text-align: right;\">     10013</td><td style=\"text-align: right;\">           1</td><td style=\"text-align: right;\">          0</td><td style=\"text-align: right;\">        7</td><td style=\"text-align: right;\">          4</td><td style=\"text-align: right;\">            4</td><td style=\"text-align: right;\">          22</td><td style=\"text-align: right;\">            22</td><td style=\"text-align: right;\">               0</td><td style=\"text-align: right;\">           3</td><td style=\"text-align: right;\">                  7</td><td style=\"text-align: right;\">      1</td><td style=\"text-align: right;\">      2</td><td style=\"text-align: right;\">       1</td><td style=\"text-align: right;\">       1.5</td><td style=\"text-align: right;\">      0</td><td style=\"text-align: right;\">      0</td><td style=\"text-align: right;\">       0</td><td style=\"text-align: right;\">       0  </td><td style=\"text-align: right;\">      1</td><td style=\"text-align: right;\">      3</td><td style=\"text-align: right;\">       3</td><td style=\"text-align: right;\">       2.5</td><td style=\"text-align: right;\">      1</td><td style=\"text-align: right;\">      3</td><td style=\"text-align: right;\">       3</td><td style=\"text-align: right;\">       3  </td><td style=\"text-align: right;\">      0</td><td style=\"text-align: right;\">      1</td><td style=\"text-align: right;\">       0</td><td style=\"text-align: right;\">       0.5</td><td style=\"text-align: right;\">      2</td><td style=\"text-align: right;\">      3</td><td style=\"text-align: right;\">       2</td><td style=\"text-align: right;\">       2.5</td><td style=\"text-align: right;\">      3</td><td style=\"text-align: right;\">      3</td><td style=\"text-align: right;\">       3</td><td style=\"text-align: right;\">       3  </td><td style=\"text-align: right;\">       713</td><td style=\"text-align: right;\">       746</td><td style=\"text-align: right;\">        713</td><td style=\"text-align: right;\">        734  </td><td style=\"text-align: right;\">        2</td><td style=\"text-align: right;\">        0</td><td style=\"text-align: right;\">        2</td><td style=\"text-align: right;\">        3</td><td style=\"text-align: right;\">        0</td><td style=\"text-align: right;\">        3</td><td style=\"text-align: right;\">        3</td><td style=\"text-align: right;\">         0</td><td style=\"text-align: right;\">         0</td><td style=\"text-align: right;\">         0</td><td style=\"text-align: right;\">         0</td><td style=\"text-align: right;\">         0</td><td style=\"text-align: right;\">         0</td><td style=\"text-align: right;\">         1</td><td style=\"text-align: right;\">         0</td><td style=\"text-align: right;\">         0</td><td style=\"text-align: right;\">         0</td><td style=\"text-align: right;\">         0</td><td style=\"text-align: right;\">         0</td><td style=\"text-align: right;\">         0</td><td style=\"text-align: right;\">         0</td><td style=\"text-align: right;\">         0</td><td style=\"text-align: right;\">         0</td><td style=\"text-align: right;\">         0</td><td style=\"text-align: right;\">         0</td><td style=\"text-align: right;\">         0</td><td style=\"text-align: right;\">         0</td><td style=\"text-align: right;\">         0</td><td style=\"text-align: right;\">         0</td><td style=\"text-align: right;\">         0</td><td style=\"text-align: right;\">         0</td><td style=\"text-align: right;\">         0</td><td style=\"text-align: right;\">         0</td><td style=\"text-align: right;\">         0</td><td style=\"text-align: right;\">         0</td><td style=\"text-align: right;\">         0</td><td style=\"text-align: right;\">         0</td><td style=\"text-align: right;\">         0</td><td style=\"text-align: right;\">         0</td><td style=\"text-align: right;\">         0</td><td style=\"text-align: right;\">         0</td><td style=\"text-align: right;\">         0</td><td style=\"text-align: right;\">         0</td></tr>\n",
       "</tbody>\n",
       "</table>"
      ]
     },
     "metadata": {},
     "output_type": "display_data"
    },
    {
     "data": {
      "text/plain": []
     },
     "execution_count": 59,
     "metadata": {},
     "output_type": "execute_result"
    }
   ],
   "source": [
    "df_test_h.head()"
   ]
  },
  {
   "cell_type": "code",
   "execution_count": 60,
   "metadata": {},
   "outputs": [
    {
     "name": "stdout",
     "output_type": "stream",
     "text": [
      "stackedensemble prediction progress: |████████████████████████████████████| 100%\n"
     ]
    },
    {
     "name": "stderr",
     "output_type": "stream",
     "text": [
      "D:\\Anaconda\\lib\\site-packages\\h2o\\job.py:69: UserWarning: Test/Validation dataset is missing column 'Unnamed: 0': substituting in a column of NaN\n",
      "  warnings.warn(w)\n",
      "D:\\Anaconda\\lib\\site-packages\\h2o\\job.py:69: UserWarning: Test/Validation dataset is missing column 'A_chosen': substituting in a column of NaN\n",
      "  warnings.warn(w)\n",
      "D:\\Anaconda\\lib\\site-packages\\h2o\\job.py:69: UserWarning: Test/Validation dataset is missing column 'B_chosen': substituting in a column of NaN\n",
      "  warnings.warn(w)\n",
      "D:\\Anaconda\\lib\\site-packages\\h2o\\job.py:69: UserWarning: Test/Validation dataset is missing column 'C_chosen': substituting in a column of NaN\n",
      "  warnings.warn(w)\n",
      "D:\\Anaconda\\lib\\site-packages\\h2o\\job.py:69: UserWarning: Test/Validation dataset is missing column 'D_chosen': substituting in a column of NaN\n",
      "  warnings.warn(w)\n",
      "D:\\Anaconda\\lib\\site-packages\\h2o\\job.py:69: UserWarning: Test/Validation dataset is missing column 'E_chosen': substituting in a column of NaN\n",
      "  warnings.warn(w)\n",
      "D:\\Anaconda\\lib\\site-packages\\h2o\\job.py:69: UserWarning: Test/Validation dataset is missing column 'F_chosen': substituting in a column of NaN\n",
      "  warnings.warn(w)\n"
     ]
    }
   ],
   "source": [
    "h2o_preds = aml.predict(test_data = df_test_h)"
   ]
  },
  {
   "cell_type": "code",
   "execution_count": 65,
   "metadata": {},
   "outputs": [
    {
     "data": {
      "text/html": [
       "<table>\n",
       "<thead>\n",
       "<tr><th style=\"text-align: right;\">  customer_ID</th><th style=\"text-align: right;\">  chosen_match_final</th></tr>\n",
       "</thead>\n",
       "<tbody>\n",
       "<tr><td style=\"text-align: right;\">        1e+07</td><td style=\"text-align: right;\">          0.0458399 </td></tr>\n",
       "<tr><td style=\"text-align: right;\">        1e+07</td><td style=\"text-align: right;\">          0.583676  </td></tr>\n",
       "<tr><td style=\"text-align: right;\">        1e+07</td><td style=\"text-align: right;\">          0.683833  </td></tr>\n",
       "<tr><td style=\"text-align: right;\">        1e+07</td><td style=\"text-align: right;\">          0.336102  </td></tr>\n",
       "<tr><td style=\"text-align: right;\">        1e+07</td><td style=\"text-align: right;\">          0.670536  </td></tr>\n",
       "<tr><td style=\"text-align: right;\">        1e+07</td><td style=\"text-align: right;\">          0.536634  </td></tr>\n",
       "<tr><td style=\"text-align: right;\">        1e+07</td><td style=\"text-align: right;\">          0.694623  </td></tr>\n",
       "<tr><td style=\"text-align: right;\">        1e+07</td><td style=\"text-align: right;\">          0.231474  </td></tr>\n",
       "<tr><td style=\"text-align: right;\">        1e+07</td><td style=\"text-align: right;\">          0.507408  </td></tr>\n",
       "<tr><td style=\"text-align: right;\">        1e+07</td><td style=\"text-align: right;\">          0.00703263</td></tr>\n",
       "</tbody>\n",
       "</table>"
      ]
     },
     "metadata": {},
     "output_type": "display_data"
    },
    {
     "data": {
      "text/plain": []
     },
     "execution_count": 65,
     "metadata": {},
     "output_type": "execute_result"
    }
   ],
   "source": [
    "sub = df_test_h.cbind(h2o_preds)\n",
    "sub = sub[['customer_ID', 'predict']]\n",
    "sub.set_names(['customer_ID','chosen_match_final'])"
   ]
  },
  {
   "cell_type": "code",
   "execution_count": 67,
   "metadata": {},
   "outputs": [
    {
     "name": "stdout",
     "output_type": "stream",
     "text": [
      "Export File progress: |███████████████████████████████████████████████████| 100%\n"
     ]
    }
   ],
   "source": [
    "import os\n",
    "h2o.export_file(sub[['customer_ID','chosen_match_final']],os.getcwd()+'\\\\'+'initial_Submission1.csv')"
   ]
  },
  {
   "cell_type": "code",
   "execution_count": 68,
   "metadata": {},
   "outputs": [],
   "source": [
    "submit_df = pd.read_csv('initial_Submission1.csv')"
   ]
  },
  {
   "cell_type": "code",
   "execution_count": 69,
   "metadata": {},
   "outputs": [
    {
     "data": {
      "text/html": [
       "<div>\n",
       "<style scoped>\n",
       "    .dataframe tbody tr th:only-of-type {\n",
       "        vertical-align: middle;\n",
       "    }\n",
       "\n",
       "    .dataframe tbody tr th {\n",
       "        vertical-align: top;\n",
       "    }\n",
       "\n",
       "    .dataframe thead th {\n",
       "        text-align: right;\n",
       "    }\n",
       "</style>\n",
       "<table border=\"1\" class=\"dataframe\">\n",
       "  <thead>\n",
       "    <tr style=\"text-align: right;\">\n",
       "      <th></th>\n",
       "      <th>customer_ID</th>\n",
       "      <th>chosen_match_final</th>\n",
       "    </tr>\n",
       "  </thead>\n",
       "  <tbody>\n",
       "    <tr>\n",
       "      <th>0</th>\n",
       "      <td>10000001</td>\n",
       "      <td>0.045840</td>\n",
       "    </tr>\n",
       "    <tr>\n",
       "      <th>1</th>\n",
       "      <td>10000002</td>\n",
       "      <td>0.583676</td>\n",
       "    </tr>\n",
       "    <tr>\n",
       "      <th>2</th>\n",
       "      <td>10000003</td>\n",
       "      <td>0.683833</td>\n",
       "    </tr>\n",
       "    <tr>\n",
       "      <th>3</th>\n",
       "      <td>10000004</td>\n",
       "      <td>0.336102</td>\n",
       "    </tr>\n",
       "    <tr>\n",
       "      <th>4</th>\n",
       "      <td>10000006</td>\n",
       "      <td>0.670536</td>\n",
       "    </tr>\n",
       "  </tbody>\n",
       "</table>\n",
       "</div>"
      ],
      "text/plain": [
       "   customer_ID  chosen_match_final\n",
       "0     10000001            0.045840\n",
       "1     10000002            0.583676\n",
       "2     10000003            0.683833\n",
       "3     10000004            0.336102\n",
       "4     10000006            0.670536"
      ]
     },
     "execution_count": 69,
     "metadata": {},
     "output_type": "execute_result"
    }
   ],
   "source": [
    "submit_df.head()"
   ]
  },
  {
   "cell_type": "code",
   "execution_count": null,
   "metadata": {},
   "outputs": [],
   "source": []
  }
 ],
 "metadata": {
  "kernelspec": {
   "display_name": "Python 3",
   "language": "python",
   "name": "python3"
  },
  "language_info": {
   "codemirror_mode": {
    "name": "ipython",
    "version": 3
   },
   "file_extension": ".py",
   "mimetype": "text/x-python",
   "name": "python",
   "nbconvert_exporter": "python",
   "pygments_lexer": "ipython3",
   "version": "3.7.0"
  }
 },
 "nbformat": 4,
 "nbformat_minor": 2
}
